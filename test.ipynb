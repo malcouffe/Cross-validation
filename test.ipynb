{
 "cells": [
  {
   "cell_type": "code",
   "execution_count": 1,
   "metadata": {},
   "outputs": [],
   "source": [
    "import numpy as np\n",
    "\n",
    "def random_table(n_rows, n_cols, low=0, high=1, seed=None):\n",
    "    \"\"\"\n",
    "    Crée un tableau avec des valeurs aléatoires.\n",
    "\n",
    "    Paramètres :\n",
    "    - n_rows : int, nombre de lignes.\n",
    "    - n_cols : int, nombre de colonnes.\n",
    "    - low : valeur minimale (par défaut 0).\n",
    "    - high : valeur maximale (par défaut 1).\n",
    "    - seed : int, graine aléatoire pour reproductibilité (optionnel).\n",
    "\n",
    "    Retourne :\n",
    "    - Un tableau NumPy de dimensions (n_rows, n_cols) rempli de valeurs aléatoires.\n",
    "    \"\"\"\n",
    "    if seed is not None:\n",
    "        np.random.seed(seed)\n",
    "    \n",
    "    return np.random.uniform(low, high, size=(n_rows, n_cols))\n",
    "\n",
    "# Exemple d'utilisation\n",
    "n_rows = 1000000\n",
    "n_cols = 5\n",
    "X = random_table(n_rows, n_cols, low=10, high=50, seed=42)\n",
    "y = random_table(n_rows, 1, low=10, high=50, seed=42)"
   ]
  },
  {
   "cell_type": "code",
   "execution_count": 2,
   "metadata": {},
   "outputs": [],
   "source": [
    "from cross_validation import cross_validation\n",
    "from sklearn.linear_model import LinearRegression # type: ignore\n",
    "from sklearn.metrics import mean_squared_error # type: ignore\n",
    "\n",
    "model = LinearRegression()\n",
    "\n",
    "result_dict = cross_validation(X, y, k=5, model=model, metric=mean_squared_error)"
   ]
  },
  {
   "cell_type": "code",
   "execution_count": 3,
   "metadata": {},
   "outputs": [
    {
     "data": {
      "text/plain": [
       "[{'Fold_0': np.float64(132.9512194133805)},\n",
       " {'Fold_1': np.float64(133.18347207007452)},\n",
       " {'Fold_2': np.float64(133.3645570314307)},\n",
       " {'Fold_3': np.float64(133.3931787673376)},\n",
       " {'Fold_4': np.float64(133.3880841724014)}]"
      ]
     },
     "execution_count": 3,
     "metadata": {},
     "output_type": "execute_result"
    }
   ],
   "source": [
    "result_dict"
   ]
  },
  {
   "cell_type": "code",
   "execution_count": null,
   "metadata": {},
   "outputs": [],
   "source": []
  }
 ],
 "metadata": {
  "kernelspec": {
   "display_name": "Python 3",
   "language": "python",
   "name": "python3"
  },
  "language_info": {
   "codemirror_mode": {
    "name": "ipython",
    "version": 3
   },
   "file_extension": ".py",
   "mimetype": "text/x-python",
   "name": "python",
   "nbconvert_exporter": "python",
   "pygments_lexer": "ipython3",
   "version": "3.11.0"
  }
 },
 "nbformat": 4,
 "nbformat_minor": 2
}
