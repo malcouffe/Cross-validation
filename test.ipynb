{
 "cells": [
  {
   "cell_type": "code",
   "execution_count": 1,
   "metadata": {},
   "outputs": [],
   "source": [
    "import pandas as pd\n",
    "from cross_validation import cross_validation\n",
    "from sklearn.linear_model import LinearRegression\n",
    "from sklearn.metrics import mean_squared_error"
   ]
  },
  {
   "cell_type": "code",
   "execution_count": 2,
   "metadata": {},
   "outputs": [],
   "source": [
    "file_path = \"data/ozone_complet.csv\"\n",
    "df = pd.read_csv(file_path, sep=';', index_col=0, decimal=',')"
   ]
  },
  {
   "cell_type": "code",
   "execution_count": 3,
   "metadata": {},
   "outputs": [
    {
     "name": "stdout",
     "output_type": "stream",
     "text": [
      "<class 'pandas.core.frame.DataFrame'>\n",
      "Index: 1464 entries, 19950401 to 20020930\n",
      "Data columns (total 23 columns):\n",
      " #   Column  Non-Null Count  Dtype  \n",
      "---  ------  --------------  -----  \n",
      " 0   maxO3   1391 non-null   float64\n",
      " 1   T6      1463 non-null   float64\n",
      " 2   T9      1463 non-null   float64\n",
      " 3   T12     1463 non-null   float64\n",
      " 4   T15     1463 non-null   float64\n",
      " 5   T18     1463 non-null   float64\n",
      " 6   Ne6     1462 non-null   float64\n",
      " 7   Ne9     1462 non-null   float64\n",
      " 8   Ne12    1462 non-null   float64\n",
      " 9   Ne15    1462 non-null   float64\n",
      " 10  Ne18    1459 non-null   float64\n",
      " 11  Vdir6   1463 non-null   float64\n",
      " 12  Vvit6   1463 non-null   float64\n",
      " 13  Vdir9   1463 non-null   float64\n",
      " 14  Vvit9   1463 non-null   float64\n",
      " 15  Vdir12  1463 non-null   float64\n",
      " 16  Vvit12  1463 non-null   float64\n",
      " 17  Vdir15  1463 non-null   float64\n",
      " 18  Vvit15  1463 non-null   float64\n",
      " 19  Vdir18  1463 non-null   float64\n",
      " 20  Vvit18  1463 non-null   float64\n",
      " 21  Vx      1463 non-null   float64\n",
      " 22  maxO3v  1391 non-null   float64\n",
      "dtypes: float64(23)\n",
      "memory usage: 274.5 KB\n"
     ]
    }
   ],
   "source": [
    "df.info()"
   ]
  },
  {
   "cell_type": "code",
   "execution_count": 4,
   "metadata": {},
   "outputs": [
    {
     "data": {
      "text/html": [
       "<div>\n",
       "<style scoped>\n",
       "    .dataframe tbody tr th:only-of-type {\n",
       "        vertical-align: middle;\n",
       "    }\n",
       "\n",
       "    .dataframe tbody tr th {\n",
       "        vertical-align: top;\n",
       "    }\n",
       "\n",
       "    .dataframe thead th {\n",
       "        text-align: right;\n",
       "    }\n",
       "</style>\n",
       "<table border=\"1\" class=\"dataframe\">\n",
       "  <thead>\n",
       "    <tr style=\"text-align: right;\">\n",
       "      <th></th>\n",
       "      <th>maxO3</th>\n",
       "      <th>T6</th>\n",
       "      <th>T9</th>\n",
       "      <th>T12</th>\n",
       "      <th>T15</th>\n",
       "      <th>T18</th>\n",
       "      <th>Ne6</th>\n",
       "      <th>Ne9</th>\n",
       "      <th>Ne12</th>\n",
       "      <th>Ne15</th>\n",
       "      <th>...</th>\n",
       "      <th>Vdir9</th>\n",
       "      <th>Vvit9</th>\n",
       "      <th>Vdir12</th>\n",
       "      <th>Vvit12</th>\n",
       "      <th>Vdir15</th>\n",
       "      <th>Vvit15</th>\n",
       "      <th>Vdir18</th>\n",
       "      <th>Vvit18</th>\n",
       "      <th>Vx</th>\n",
       "      <th>maxO3v</th>\n",
       "    </tr>\n",
       "    <tr>\n",
       "      <th>date</th>\n",
       "      <th></th>\n",
       "      <th></th>\n",
       "      <th></th>\n",
       "      <th></th>\n",
       "      <th></th>\n",
       "      <th></th>\n",
       "      <th></th>\n",
       "      <th></th>\n",
       "      <th></th>\n",
       "      <th></th>\n",
       "      <th></th>\n",
       "      <th></th>\n",
       "      <th></th>\n",
       "      <th></th>\n",
       "      <th></th>\n",
       "      <th></th>\n",
       "      <th></th>\n",
       "      <th></th>\n",
       "      <th></th>\n",
       "      <th></th>\n",
       "      <th></th>\n",
       "    </tr>\n",
       "  </thead>\n",
       "  <tbody>\n",
       "    <tr>\n",
       "      <th>19950401</th>\n",
       "      <td>47.6</td>\n",
       "      <td>10.1</td>\n",
       "      <td>11.6</td>\n",
       "      <td>13.3</td>\n",
       "      <td>13.6</td>\n",
       "      <td>12.2</td>\n",
       "      <td>8.0</td>\n",
       "      <td>8.0</td>\n",
       "      <td>8.0</td>\n",
       "      <td>8.0</td>\n",
       "      <td>...</td>\n",
       "      <td>290.0</td>\n",
       "      <td>4.0</td>\n",
       "      <td>300.0</td>\n",
       "      <td>4.0</td>\n",
       "      <td>340.0</td>\n",
       "      <td>4.0</td>\n",
       "      <td>20.0</td>\n",
       "      <td>4.0</td>\n",
       "      <td>-3.4641</td>\n",
       "      <td>62.2</td>\n",
       "    </tr>\n",
       "    <tr>\n",
       "      <th>19950402</th>\n",
       "      <td>56.2</td>\n",
       "      <td>9.5</td>\n",
       "      <td>9.4</td>\n",
       "      <td>13.8</td>\n",
       "      <td>17.4</td>\n",
       "      <td>16.3</td>\n",
       "      <td>8.0</td>\n",
       "      <td>8.0</td>\n",
       "      <td>7.0</td>\n",
       "      <td>0.0</td>\n",
       "      <td>...</td>\n",
       "      <td>160.0</td>\n",
       "      <td>2.0</td>\n",
       "      <td>180.0</td>\n",
       "      <td>3.0</td>\n",
       "      <td>110.0</td>\n",
       "      <td>1.0</td>\n",
       "      <td>350.0</td>\n",
       "      <td>2.0</td>\n",
       "      <td>0.0000</td>\n",
       "      <td>47.6</td>\n",
       "    </tr>\n",
       "    <tr>\n",
       "      <th>19950403</th>\n",
       "      <td>61.8</td>\n",
       "      <td>3.6</td>\n",
       "      <td>8.0</td>\n",
       "      <td>16.8</td>\n",
       "      <td>21.5</td>\n",
       "      <td>20.2</td>\n",
       "      <td>4.0</td>\n",
       "      <td>5.0</td>\n",
       "      <td>2.0</td>\n",
       "      <td>2.0</td>\n",
       "      <td>...</td>\n",
       "      <td>20.0</td>\n",
       "      <td>2.0</td>\n",
       "      <td>340.0</td>\n",
       "      <td>1.0</td>\n",
       "      <td>170.0</td>\n",
       "      <td>2.0</td>\n",
       "      <td>170.0</td>\n",
       "      <td>3.0</td>\n",
       "      <td>-0.3420</td>\n",
       "      <td>56.2</td>\n",
       "    </tr>\n",
       "    <tr>\n",
       "      <th>19950404</th>\n",
       "      <td>50.8</td>\n",
       "      <td>9.5</td>\n",
       "      <td>10.5</td>\n",
       "      <td>11.4</td>\n",
       "      <td>12.2</td>\n",
       "      <td>11.4</td>\n",
       "      <td>8.0</td>\n",
       "      <td>7.0</td>\n",
       "      <td>7.0</td>\n",
       "      <td>7.0</td>\n",
       "      <td>...</td>\n",
       "      <td>10.0</td>\n",
       "      <td>4.0</td>\n",
       "      <td>350.0</td>\n",
       "      <td>3.0</td>\n",
       "      <td>350.0</td>\n",
       "      <td>3.0</td>\n",
       "      <td>350.0</td>\n",
       "      <td>4.0</td>\n",
       "      <td>-0.5209</td>\n",
       "      <td>61.8</td>\n",
       "    </tr>\n",
       "    <tr>\n",
       "      <th>19950405</th>\n",
       "      <td>59.8</td>\n",
       "      <td>9.8</td>\n",
       "      <td>10.8</td>\n",
       "      <td>13.8</td>\n",
       "      <td>14.3</td>\n",
       "      <td>13.3</td>\n",
       "      <td>8.0</td>\n",
       "      <td>7.0</td>\n",
       "      <td>8.0</td>\n",
       "      <td>8.0</td>\n",
       "      <td>...</td>\n",
       "      <td>340.0</td>\n",
       "      <td>2.0</td>\n",
       "      <td>280.0</td>\n",
       "      <td>1.0</td>\n",
       "      <td>320.0</td>\n",
       "      <td>3.0</td>\n",
       "      <td>350.0</td>\n",
       "      <td>4.0</td>\n",
       "      <td>-0.9848</td>\n",
       "      <td>50.8</td>\n",
       "    </tr>\n",
       "  </tbody>\n",
       "</table>\n",
       "<p>5 rows × 23 columns</p>\n",
       "</div>"
      ],
      "text/plain": [
       "          maxO3    T6    T9   T12   T15   T18  Ne6  Ne9  Ne12  Ne15  ...  \\\n",
       "date                                                                 ...   \n",
       "19950401   47.6  10.1  11.6  13.3  13.6  12.2  8.0  8.0   8.0   8.0  ...   \n",
       "19950402   56.2   9.5   9.4  13.8  17.4  16.3  8.0  8.0   7.0   0.0  ...   \n",
       "19950403   61.8   3.6   8.0  16.8  21.5  20.2  4.0  5.0   2.0   2.0  ...   \n",
       "19950404   50.8   9.5  10.5  11.4  12.2  11.4  8.0  7.0   7.0   7.0  ...   \n",
       "19950405   59.8   9.8  10.8  13.8  14.3  13.3  8.0  7.0   8.0   8.0  ...   \n",
       "\n",
       "          Vdir9  Vvit9  Vdir12  Vvit12  Vdir15  Vvit15  Vdir18  Vvit18  \\\n",
       "date                                                                     \n",
       "19950401  290.0    4.0   300.0     4.0   340.0     4.0    20.0     4.0   \n",
       "19950402  160.0    2.0   180.0     3.0   110.0     1.0   350.0     2.0   \n",
       "19950403   20.0    2.0   340.0     1.0   170.0     2.0   170.0     3.0   \n",
       "19950404   10.0    4.0   350.0     3.0   350.0     3.0   350.0     4.0   \n",
       "19950405  340.0    2.0   280.0     1.0   320.0     3.0   350.0     4.0   \n",
       "\n",
       "              Vx  maxO3v  \n",
       "date                      \n",
       "19950401 -3.4641    62.2  \n",
       "19950402  0.0000    47.6  \n",
       "19950403 -0.3420    56.2  \n",
       "19950404 -0.5209    61.8  \n",
       "19950405 -0.9848    50.8  \n",
       "\n",
       "[5 rows x 23 columns]"
      ]
     },
     "execution_count": 4,
     "metadata": {},
     "output_type": "execute_result"
    }
   ],
   "source": [
    "df.head()"
   ]
  },
  {
   "cell_type": "code",
   "execution_count": 10,
   "metadata": {},
   "outputs": [
    {
     "name": "stdout",
     "output_type": "stream",
     "text": [
      "Taille des co-variables : (1366, 22)\n",
      "Taille de la target : (1366,)\n"
     ]
    }
   ],
   "source": [
    "df.dropna(inplace=True)\n",
    "\n",
    "X = df.drop('maxO3v', axis=1).to_numpy()\n",
    "y = df['maxO3v'].to_numpy()\n",
    "\n",
    "print(f\"Taille des co-variables : {X.shape}\")\n",
    "print(f\"Taille de la target : {y.shape}\")"
   ]
  },
  {
   "cell_type": "code",
   "execution_count": 6,
   "metadata": {},
   "outputs": [
    {
     "name": "stdout",
     "output_type": "stream",
     "text": [
      "mse sur les K floads :289.0901210994387\n"
     ]
    }
   ],
   "source": [
    "# Instanciation du modèle\n",
    "model = LinearRegression()\n",
    "\n",
    "# Utilisation de la fonction custom de cross validation\n",
    "scores, mean_score = cross_validation(X, y, k=10, model=model, metric=mean_squared_error)\n",
    "print(f\"mse sur les K floads :{mean_score}\")"
   ]
  },
  {
   "cell_type": "code",
   "execution_count": 7,
   "metadata": {},
   "outputs": [
    {
     "data": {
      "text/plain": [
       "[{'Fold_0': np.float64(288.3022455860066)},\n",
       " {'Fold_1': np.float64(278.7824844191261)},\n",
       " {'Fold_2': np.float64(258.6394620247371)},\n",
       " {'Fold_3': np.float64(355.8763335329645)},\n",
       " {'Fold_4': np.float64(221.77402312467197)},\n",
       " {'Fold_5': np.float64(334.0828298521211)},\n",
       " {'Fold_6': np.float64(233.65782515073138)},\n",
       " {'Fold_7': np.float64(349.34138576752775)},\n",
       " {'Fold_8': np.float64(298.5899296552559)},\n",
       " {'Fold_9': np.float64(271.85469188124443)}]"
      ]
     },
     "execution_count": 7,
     "metadata": {},
     "output_type": "execute_result"
    }
   ],
   "source": [
    "scores"
   ]
  },
  {
   "cell_type": "code",
   "execution_count": 8,
   "metadata": {},
   "outputs": [
    {
     "name": "stdout",
     "output_type": "stream",
     "text": [
      "285.0248458226009\n"
     ]
    }
   ],
   "source": [
    "# Comparaison avec seulement un flold\n",
    "from sklearn.model_selection import train_test_split\n",
    "\n",
    "X_train, X_test, y_train, y_test = train_test_split(X, y, test_size=0.2)\n",
    "model.fit(X_train, y_train)\n",
    "y_pred = model.predict(X_test)\n",
    "mse = mean_squared_error(y_pred, y_test)\n",
    "print(mse)"
   ]
  },
  {
   "cell_type": "code",
   "execution_count": 9,
   "metadata": {},
   "outputs": [
    {
     "data": {
      "text/plain": [
       "{'fit_time': array([0.00539994, 0.00144386, 0.01010013, 0.00366902, 0.00201964,\n",
       "        0.00349498, 0.00364065, 0.00228405, 0.00114107, 0.00151801]),\n",
       " 'score_time': array([0.01744199, 0.00227404, 0.00800586, 0.00103188, 0.00163198,\n",
       "        0.00194693, 0.00127912, 0.00076294, 0.00373006, 0.00213504]),\n",
       " 'test_neg_mean_squared_error': array([-322.24511732, -259.94550913, -289.66320176, -304.48607566,\n",
       "        -327.22287318, -327.46287702, -159.42877606, -292.76520117,\n",
       "        -342.90824918, -263.01824618]),\n",
       " 'test_neg_mean_absolute_error': array([-13.33378113, -12.6233919 , -13.11179997, -12.82021269,\n",
       "        -13.22937511, -13.68621521, -10.00648955, -12.89282425,\n",
       "        -14.2509683 , -12.38365425])}"
      ]
     },
     "execution_count": 9,
     "metadata": {},
     "output_type": "execute_result"
    }
   ],
   "source": [
    "from sklearn.model_selection import cross_validate\n",
    "\n",
    "cross_validate(model, X, y,scoring=[\"neg_mean_squared_error\", \"neg_mean_absolute_error\"], cv=10)"
   ]
  },
  {
   "cell_type": "code",
   "execution_count": null,
   "metadata": {},
   "outputs": [],
   "source": []
  }
 ],
 "metadata": {
  "kernelspec": {
   "display_name": "Python 3",
   "language": "python",
   "name": "python3"
  },
  "language_info": {
   "codemirror_mode": {
    "name": "ipython",
    "version": 3
   },
   "file_extension": ".py",
   "mimetype": "text/x-python",
   "name": "python",
   "nbconvert_exporter": "python",
   "pygments_lexer": "ipython3",
   "version": "3.11.0"
  }
 },
 "nbformat": 4,
 "nbformat_minor": 2
}
